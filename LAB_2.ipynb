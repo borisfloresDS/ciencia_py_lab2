{
 "cells": [
  {
   "cell_type": "markdown",
   "metadata": {},
   "source": [
    "### Parte 1"
   ]
  },
  {
   "cell_type": "markdown",
   "metadata": {},
   "source": [
    "## 1"
   ]
  },
  {
   "cell_type": "code",
   "execution_count": 28,
   "metadata": {},
   "outputs": [
    {
     "name": "stdout",
     "output_type": "stream",
     "text": [
      "1 horas 37 minutos 51 Segundos\n"
     ]
    }
   ],
   "source": [
    "num = int(input('inserte un numero para transformarlo en hora') )\n",
    "\n",
    "def tiempo(num):\n",
    "    if num > 0:\n",
    "        hours = num // 3600\n",
    "        otronum = num % 3600\n",
    "        minute = otronum // 60\n",
    "        sec = otronum % 60\n",
    "        return f\"{hours} horas {minute} minutos {sec} Segundos\"  \n",
    "    else:\n",
    "        print('Error')\n",
    "\n",
    "reloj = tiempo(num)\n",
    "print(reloj)"
   ]
  },
  {
   "cell_type": "markdown",
   "metadata": {},
   "source": [
    "\n",
    "## 2"
   ]
  },
  {
   "cell_type": "code",
   "execution_count": 28,
   "metadata": {},
   "outputs": [
    {
     "name": "stdout",
     "output_type": "stream",
     "text": [
      "\n",
      "*\n",
      "**\n",
      "***\n",
      "****\n",
      "*****\n",
      "******\n",
      "*******\n",
      "********\n",
      "*********\n",
      "**********\n",
      "***********\n",
      "************\n",
      "*************\n",
      "**************\n",
      "***************\n",
      "****************\n",
      "*****************\n",
      "******************\n",
      "*******************\n",
      "********************\n",
      "\n",
      "\n",
      "********************\n",
      "*******************\n",
      "******************\n",
      "*****************\n",
      "****************\n",
      "***************\n",
      "**************\n",
      "*************\n",
      "************\n",
      "***********\n",
      "**********\n",
      "*********\n",
      "********\n",
      "*******\n",
      "******\n",
      "*****\n",
      "****\n",
      "***\n",
      "**\n",
      "*\n",
      "\n",
      "\n",
      "********************\n",
      "*******************\n",
      "******************\n",
      "*****************\n",
      "****************\n",
      "***************\n",
      "**************\n",
      "*************\n",
      "************\n",
      "***********\n",
      "**********\n",
      "*********\n",
      "********\n",
      "*******\n",
      "******\n",
      "*****\n",
      "****\n",
      "***\n",
      "**\n",
      "*\n",
      "\n",
      "\n",
      "\n",
      "*\n",
      "**\n",
      "***\n",
      "****\n",
      "*****\n",
      "******\n",
      "*******\n",
      "********\n",
      "*********\n",
      "**********\n",
      "***********\n",
      "************\n",
      "*************\n",
      "**************\n",
      "***************\n",
      "****************\n",
      "*****************\n",
      "******************\n",
      "*******************\n",
      "********************\n"
     ]
    }
   ],
   "source": [
    "tri = int(input('Numero de 1 a 20'))\n",
    "\n",
    "def triangulo(tri):\n",
    "\n",
    "    for a in range(0,tri + 1,1):\n",
    "        \n",
    "        print(\"*\" * a)\n",
    "\n",
    "    print(\"\\n\")      \n",
    "    for a in range(tri,0,-1):\n",
    "        \n",
    "        print(\"*\" * a)\n",
    "\n",
    "\n",
    "    print(\"\\n\")\n",
    "    for a in range(tri,0,-1):\n",
    "        \n",
    "        print(\"*\" * a)\n",
    "\n",
    "    print(\"\\n\")\n",
    "    for a in range(0,tri+1,1):\n",
    "        \n",
    "        print(\"*\" * a)\n",
    "\n",
    "if tri >= 4 and tri <= 20:\n",
    "    dibujo = triangulo(tri)\n",
    "\n",
    "else:\n",
    "    print('Error')"
   ]
  },
  {
   "cell_type": "markdown",
   "metadata": {},
   "source": [
    "## 3"
   ]
  },
  {
   "cell_type": "code",
   "execution_count": 2,
   "metadata": {},
   "outputs": [
    {
     "name": "stdout",
     "output_type": "stream",
     "text": [
      "2024-02-23\n",
      "tu edad es de 26 años 0 meses y 11 días\n"
     ]
    }
   ],
   "source": [
    "import datetime\n",
    "\n",
    "dia = int(input('dia de nacimiento'))\n",
    "\n",
    "mes = int(input('mes de nacimiento'))\n",
    "\n",
    "year = int(input('año de nacimiento'))            \n",
    "\n",
    "\n",
    "today = datetime.date.today()\n",
    "\n",
    "year_old = today.year - year\n",
    "\n",
    "month_old = today.month - mes\n",
    "\n",
    "day_old = today.day - dia\n",
    "\n",
    "print(f\"tu edad es de {year_old} años {month_old} meses y {day_old} días\")"
   ]
  },
  {
   "cell_type": "markdown",
   "metadata": {},
   "source": [
    "## 4"
   ]
  },
  {
   "cell_type": "code",
   "execution_count": 16,
   "metadata": {},
   "outputs": [
    {
     "name": "stdout",
     "output_type": "stream",
     "text": [
      "1234556\n"
     ]
    }
   ],
   "source": [
    "tupla = (1,2,3,4,5,5,6)\n",
    "\n",
    "def str_t(tupla):\n",
    "    str_tuple = \"\"\n",
    "\n",
    "    for i in tupla:\n",
    "        str_tuple += str(i)\n",
    "\n",
    "    return str_tuple\n",
    "    \n",
    "fin = str_t(tupla)\n",
    "print(fin)"
   ]
  },
  {
   "cell_type": "markdown",
   "metadata": {},
   "source": [
    "## 5"
   ]
  },
  {
   "cell_type": "code",
   "execution_count": 12,
   "metadata": {},
   "outputs": [
    {
     "name": "stdout",
     "output_type": "stream",
     "text": [
      "[('X',), ('a', 'b'), ('a', 'b', 'c'), 'd']\n"
     ]
    }
   ],
   "source": [
    "def limpia_tuplas (tupla_d):\n",
    "    list_c = []\n",
    "\n",
    "    for i, n in enumerate(tupla_d):\n",
    "        if n != ():\n",
    "            list_c.append(n)\n",
    "    \n",
    "    return list_c\n",
    "\n",
    "lista = [(), (), ('X',), ('a', 'b'), ('a', 'b', 'c'), ('d')]\n",
    "\n",
    "resultado = limpia_tuplas(lista)\n",
    "\n",
    "print(resultado)"
   ]
  },
  {
   "cell_type": "markdown",
   "metadata": {},
   "source": [
    "## 6"
   ]
  },
  {
   "cell_type": "code",
   "execution_count": 31,
   "metadata": {},
   "outputs": [
    {
     "name": "stdout",
     "output_type": "stream",
     "text": [
      "[42, 176, 232]\n",
      "[4, 4, 4]\n",
      "(10.5, 44.0, 58.0)\n"
     ]
    }
   ],
   "source": [
    "def prom_tup(tupla6):\n",
    "\n",
    "    lista1 = []\n",
    "    suma = [sum(d) for i,d in enumerate(tupla)]\n",
    "    average = [len(d) for i,d in enumerate(tupla)]\n",
    "\n",
    "    print(suma)\n",
    "    print(average)\n",
    "\n",
    "    for i in range(len(tupla6)):\n",
    "        prom = suma[i] / average[i]\n",
    "        lista1.append(prom)\n",
    "        tupla2 = tuple(lista1)\n",
    "\n",
    "    return tupla2\n",
    "\n",
    "tupla6 = ((10,10,10,12), (30,45,56,45), (81,80,39,32))\n",
    "\n",
    "res6 = prom_tup(tupla6)\n",
    "\n",
    "print(res6)"
   ]
  },
  {
   "cell_type": "markdown",
   "metadata": {},
   "source": [
    "## 7"
   ]
  },
  {
   "cell_type": "code",
   "execution_count": 10,
   "metadata": {},
   "outputs": [
    {
     "name": "stdout",
     "output_type": "stream",
     "text": [
      "\n",
      "¿Qué desea hacer?\n",
      "1. quiere anadir una nueva factura\n",
      "2. pagar una existente\n",
      "3. terminar\n",
      "{3: 30.0, 1: 10.0, 1003: 50.2, 1010: 52.52}\n",
      "Cantidad cobrada hasta el momento: 0\n",
      "Cantidad pendiente de cobro: 142.72\n",
      "\n",
      "¿Qué desea hacer?\n",
      "1. quiere anadir una nueva factura\n",
      "2. pagar una existente\n",
      "3. terminar\n",
      "Cantidad cobrada hasta el momento: 30.0\n",
      "Cantidad pendiente de cobro: 82.72\n",
      "\n",
      "¿Qué desea hacer?\n",
      "1. quiere anadir una nueva factura\n",
      "2. pagar una existente\n",
      "3. terminar\n",
      "Cantidad cobrada hasta el momento: 40.0\n",
      "Cantidad pendiente de cobro: 62.72\n",
      "\n",
      "¿Qué desea hacer?\n",
      "1. quiere anadir una nueva factura\n",
      "2. pagar una existente\n",
      "3. terminar\n",
      "Cantidad cobrada hasta el momento: 92.52000000000001\n",
      "Cantidad pendiente de cobro: -42.32000000000001\n",
      "\n",
      "¿Qué desea hacer?\n",
      "1. quiere anadir una nueva factura\n",
      "2. pagar una existente\n",
      "3. terminar\n",
      "adios\n"
     ]
    }
   ],
   "source": [
    "def mostrar_cobrado_pendiente(facturas):\n",
    "\n",
    "    pendiente = sum(facturas.values()) - total_cobrado\n",
    "    print(\"Cantidad cobrada hasta el momento:\", total_cobrado)\n",
    "    print(\"Cantidad pendiente de cobro:\", pendiente)\n",
    "\n",
    "#facturas = {}\n",
    "total_cobrado = 0\n",
    "\n",
    "while True:\n",
    "    print(\"\\n¿Qué desea hacer?\")\n",
    "    print(\"1. quiere anadir una nueva factura\")\n",
    "    print(\"2. pagar una existente\")\n",
    "    print(\"3. terminar\")\n",
    "\n",
    "    num = int(input('Eliga una opción del 1 al 3 para seguir'))\n",
    "\n",
    "    if num == 1:\n",
    "        num_fac = int(input('ingrese el numero de factura con numeros de 0001 al 9999'))\n",
    "        coste = float(input('ingrese el coste de la factura'))\n",
    "        facturas[num_fac] = coste\n",
    "        \n",
    "        print(facturas)\n",
    "        mostrar_cobrado_pendiente(facturas)\n",
    "\n",
    "    elif num == 2:\n",
    "        pagar = int(input('que numero de factura deasea pagar?'))\n",
    "        pagado = facturas.pop(pagar)\n",
    "        total_cobrado +=  pagado\n",
    "        print(facturas)\n",
    "        mostrar_cobrado_pendiente(facturas)\n",
    "        \n",
    "\n",
    "    elif num == 3:\n",
    "        print('adios')\n",
    "        break"
   ]
  },
  {
   "cell_type": "markdown",
   "metadata": {},
   "source": [
    "## 8"
   ]
  },
  {
   "cell_type": "code",
   "execution_count": 24,
   "metadata": {},
   "outputs": [
    {
     "name": "stdout",
     "output_type": "stream",
     "text": [
      "['T1', 'T2', 'T3', 'T4', 'T5', 'T6', 'T7', 'T8', 'T9', 'T10', 'T11', 'T12', 'T13', 'C1', 'C2', 'C3', 'C4', 'C5', 'C6', 'C7', 'C8', 'C9', 'C10', 'C11', 'C12', 'C13', 'P1', 'P2', 'P3', 'P4', 'P5', 'P6', 'P7', 'P8', 'P9', 'P10', 'P11', 'P12', 'P13', 'E1', 'E2', 'E3', 'E4', 'E5', 'E6', 'E7', 'E8', 'E9', 'E10', 'E11', 'E12', 'E13']\n",
      "Conjunto 1: {'E2'}\n",
      "Conjunto 2: {'P5', 'T8', 'P7'}\n",
      "Probabilidad de la intersección: 0.0\n",
      "Probabilidad del producto: 0.0011094674556213018\n",
      "¿Son eventos independientes?: False\n",
      "Probabilidad de la unión: 1.0\n",
      "Probabilidad de la adición: 0.07692307692307693\n",
      "¿Se cumple la regla de la adición?: False\n"
     ]
    }
   ],
   "source": [
    "import random\n",
    "import pandas as pd\n",
    "import numpy as np\n",
    "\n",
    "\n",
    "def baraja_gen():\n",
    "    baraja = []\n",
    "    tipo = ['T', 'C', 'P', 'E']\n",
    "    for i in tipo:\n",
    "        for numero in range(1, 14):\n",
    "            carta = i + str(numero)  \n",
    "            baraja.append(carta)\n",
    "    return baraja\n",
    "\n",
    "baraja1 = baraja_gen()\n",
    "print(baraja1)\n",
    "\n",
    "def sets(baraja1):\n",
    "    elementos1 = random.randint(1, 53)\n",
    "    elementos2 = random.randint(1, 53)\n",
    "    set1 = set(random.sample(baraja1, elementos1))\n",
    "    set2 = set(random.sample(baraja1, elementos2))\n",
    "    return set1, set2\n",
    "#print(set1, set2)\n",
    "\n",
    "def intersec_prob(set1, set2):\n",
    "    interseccion = set1 & set2\n",
    "    prob_intersec = len(interseccion) / min(len(set1), len(set2))\n",
    "    return prob_intersec\n",
    "\n",
    "\n",
    "\n",
    "def probabilidad_union(set1, set2):\n",
    "    union = set1 | set2\n",
    "    prob_union = len(union) / (len(set1) + len(set2) - len(set1 & set2))\n",
    "    return prob_union\n",
    "\n",
    "\n",
    "baraja = baraja_gen()\n",
    "\n",
    "set1, set2 = sets(baraja)\n",
    "\n",
    "prob_intersec = intersec_prob(set1, set2)\n",
    "print('probabilidad de interseccion', prob_intersec)\n",
    "\n",
    "prob_union = probabilidad_union(set1, set2)\n",
    "print(\"Probabilidad de la unión:\", prob_union)\n",
    "\n",
    "\n",
    "prob_product = len(set1) / len(baraja) * len(set2) / len(baraja)\n",
    "print(\"Probabilidad del producto\", prob_product)\n",
    "print(\"¿Son eventos independientes?:\", prob_intersec == prob_product)\n",
    "\n",
    "prob_adicion = len(set1) / len(baraja) + len(set2) / len(baraja) - prob_intersec\n",
    "print(\"Probabilidad de la adición\", prob_adicion)\n",
    "print(\"¿Se cumple la regla de la adición?\", prob_union == prob_adicion)\n",
    "\n"
   ]
  }
 ],
 "metadata": {
  "kernelspec": {
   "display_name": "Python 3",
   "language": "python",
   "name": "python3"
  },
  "language_info": {
   "codemirror_mode": {
    "name": "ipython",
    "version": 3
   },
   "file_extension": ".py",
   "mimetype": "text/x-python",
   "name": "python",
   "nbconvert_exporter": "python",
   "pygments_lexer": "ipython3",
   "version": "3.10.11"
  }
 },
 "nbformat": 4,
 "nbformat_minor": 2
}
